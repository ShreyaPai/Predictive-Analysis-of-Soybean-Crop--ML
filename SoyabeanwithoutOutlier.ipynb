{
 "cells": [
  {
   "cell_type": "code",
   "execution_count": 1,
   "metadata": {
    "collapsed": true
   },
   "outputs": [],
   "source": [
    "import os\n",
    "import numpy as np\n",
    "import pandas as pd\n",
    "from scipy import stats\n",
    "import itertools\n",
    "import matplotlib.pyplot as plt\n",
    "from sklearn.model_selection import train_test_split\n",
    "from sklearn.ensemble import RandomForestClassifier\n",
    "from sklearn.metrics import classification_report\n",
    "from sklearn.metrics import confusion_matrix\n",
    "from sklearn.utils.multiclass import unique_labels\n",
    "from sklearn.metrics import accuracy_score\n",
    "from sklearn.linear_model import LogisticRegression"
   ]
  },
  {
   "cell_type": "code",
   "execution_count": 2,
   "metadata": {
    "collapsed": true
   },
   "outputs": [],
   "source": [
    "data_as_frame = pd.read_csv('output/cleaned_data.csv')"
   ]
  },
  {
   "cell_type": "code",
   "execution_count": 3,
   "metadata": {},
   "outputs": [
    {
     "data": {
      "text/html": [
       "<div>\n",
       "<style scoped>\n",
       "    .dataframe tbody tr th:only-of-type {\n",
       "        vertical-align: middle;\n",
       "    }\n",
       "\n",
       "    .dataframe tbody tr th {\n",
       "        vertical-align: top;\n",
       "    }\n",
       "\n",
       "    .dataframe thead th {\n",
       "        text-align: right;\n",
       "    }\n",
       "</style>\n",
       "<table border=\"1\" class=\"dataframe\">\n",
       "  <thead>\n",
       "    <tr style=\"text-align: right;\">\n",
       "      <th></th>\n",
       "      <th>date</th>\n",
       "      <th>plant_stand</th>\n",
       "      <th>precip</th>\n",
       "      <th>temp</th>\n",
       "      <th>hail</th>\n",
       "      <th>crop_hist</th>\n",
       "      <th>area_dam</th>\n",
       "      <th>sever</th>\n",
       "      <th>seed_tmt</th>\n",
       "      <th>germ</th>\n",
       "      <th>...</th>\n",
       "      <th>sclerotia</th>\n",
       "      <th>fruit_pods</th>\n",
       "      <th>fruit_spots</th>\n",
       "      <th>seed</th>\n",
       "      <th>mold_growth</th>\n",
       "      <th>seed_discolor</th>\n",
       "      <th>seed_size</th>\n",
       "      <th>shriveling</th>\n",
       "      <th>roots</th>\n",
       "      <th>plant_growth</th>\n",
       "    </tr>\n",
       "  </thead>\n",
       "  <tbody>\n",
       "    <tr>\n",
       "      <th>0</th>\n",
       "      <td>6</td>\n",
       "      <td>0.0</td>\n",
       "      <td>2.0</td>\n",
       "      <td>1.0</td>\n",
       "      <td>0.0</td>\n",
       "      <td>1</td>\n",
       "      <td>1</td>\n",
       "      <td>1.0</td>\n",
       "      <td>0.0</td>\n",
       "      <td>0.0</td>\n",
       "      <td>...</td>\n",
       "      <td>0.0</td>\n",
       "      <td>0.0</td>\n",
       "      <td>4.0</td>\n",
       "      <td>0.0</td>\n",
       "      <td>0.0</td>\n",
       "      <td>0.0</td>\n",
       "      <td>0.0</td>\n",
       "      <td>0.0</td>\n",
       "      <td>0.0</td>\n",
       "      <td>1</td>\n",
       "    </tr>\n",
       "    <tr>\n",
       "      <th>1</th>\n",
       "      <td>4</td>\n",
       "      <td>0.0</td>\n",
       "      <td>2.0</td>\n",
       "      <td>1.0</td>\n",
       "      <td>0.0</td>\n",
       "      <td>2</td>\n",
       "      <td>0</td>\n",
       "      <td>2.0</td>\n",
       "      <td>1.0</td>\n",
       "      <td>1.0</td>\n",
       "      <td>...</td>\n",
       "      <td>0.0</td>\n",
       "      <td>0.0</td>\n",
       "      <td>4.0</td>\n",
       "      <td>0.0</td>\n",
       "      <td>0.0</td>\n",
       "      <td>0.0</td>\n",
       "      <td>0.0</td>\n",
       "      <td>0.0</td>\n",
       "      <td>0.0</td>\n",
       "      <td>1</td>\n",
       "    </tr>\n",
       "    <tr>\n",
       "      <th>2</th>\n",
       "      <td>3</td>\n",
       "      <td>0.0</td>\n",
       "      <td>2.0</td>\n",
       "      <td>1.0</td>\n",
       "      <td>0.0</td>\n",
       "      <td>1</td>\n",
       "      <td>0</td>\n",
       "      <td>2.0</td>\n",
       "      <td>1.0</td>\n",
       "      <td>2.0</td>\n",
       "      <td>...</td>\n",
       "      <td>0.0</td>\n",
       "      <td>0.0</td>\n",
       "      <td>4.0</td>\n",
       "      <td>0.0</td>\n",
       "      <td>0.0</td>\n",
       "      <td>0.0</td>\n",
       "      <td>0.0</td>\n",
       "      <td>0.0</td>\n",
       "      <td>0.0</td>\n",
       "      <td>1</td>\n",
       "    </tr>\n",
       "    <tr>\n",
       "      <th>3</th>\n",
       "      <td>3</td>\n",
       "      <td>0.0</td>\n",
       "      <td>2.0</td>\n",
       "      <td>1.0</td>\n",
       "      <td>0.0</td>\n",
       "      <td>1</td>\n",
       "      <td>0</td>\n",
       "      <td>2.0</td>\n",
       "      <td>0.0</td>\n",
       "      <td>1.0</td>\n",
       "      <td>...</td>\n",
       "      <td>0.0</td>\n",
       "      <td>0.0</td>\n",
       "      <td>4.0</td>\n",
       "      <td>0.0</td>\n",
       "      <td>0.0</td>\n",
       "      <td>0.0</td>\n",
       "      <td>0.0</td>\n",
       "      <td>0.0</td>\n",
       "      <td>0.0</td>\n",
       "      <td>1</td>\n",
       "    </tr>\n",
       "    <tr>\n",
       "      <th>4</th>\n",
       "      <td>6</td>\n",
       "      <td>0.0</td>\n",
       "      <td>2.0</td>\n",
       "      <td>1.0</td>\n",
       "      <td>0.0</td>\n",
       "      <td>2</td>\n",
       "      <td>0</td>\n",
       "      <td>1.0</td>\n",
       "      <td>0.0</td>\n",
       "      <td>2.0</td>\n",
       "      <td>...</td>\n",
       "      <td>0.0</td>\n",
       "      <td>0.0</td>\n",
       "      <td>4.0</td>\n",
       "      <td>0.0</td>\n",
       "      <td>0.0</td>\n",
       "      <td>0.0</td>\n",
       "      <td>0.0</td>\n",
       "      <td>0.0</td>\n",
       "      <td>0.0</td>\n",
       "      <td>1</td>\n",
       "    </tr>\n",
       "  </tbody>\n",
       "</table>\n",
       "<p>5 rows × 35 columns</p>\n",
       "</div>"
      ],
      "text/plain": [
       "   date  plant_stand  precip  temp  hail  crop_hist  area_dam  sever  \\\n",
       "0     6          0.0     2.0   1.0   0.0          1         1    1.0   \n",
       "1     4          0.0     2.0   1.0   0.0          2         0    2.0   \n",
       "2     3          0.0     2.0   1.0   0.0          1         0    2.0   \n",
       "3     3          0.0     2.0   1.0   0.0          1         0    2.0   \n",
       "4     6          0.0     2.0   1.0   0.0          2         0    1.0   \n",
       "\n",
       "   seed_tmt  germ      ...       sclerotia  fruit_pods  fruit_spots  seed  \\\n",
       "0       0.0   0.0      ...             0.0         0.0          4.0   0.0   \n",
       "1       1.0   1.0      ...             0.0         0.0          4.0   0.0   \n",
       "2       1.0   2.0      ...             0.0         0.0          4.0   0.0   \n",
       "3       0.0   1.0      ...             0.0         0.0          4.0   0.0   \n",
       "4       0.0   2.0      ...             0.0         0.0          4.0   0.0   \n",
       "\n",
       "   mold_growth  seed_discolor  seed_size  shriveling  roots  plant_growth  \n",
       "0          0.0            0.0        0.0         0.0    0.0             1  \n",
       "1          0.0            0.0        0.0         0.0    0.0             1  \n",
       "2          0.0            0.0        0.0         0.0    0.0             1  \n",
       "3          0.0            0.0        0.0         0.0    0.0             1  \n",
       "4          0.0            0.0        0.0         0.0    0.0             1  \n",
       "\n",
       "[5 rows x 35 columns]"
      ]
     },
     "execution_count": 3,
     "metadata": {},
     "output_type": "execute_result"
    }
   ],
   "source": [
    "data_as_frame.head()"
   ]
  },
  {
   "cell_type": "code",
   "execution_count": 4,
   "metadata": {
    "collapsed": true
   },
   "outputs": [],
   "source": [
    "x = data_as_frame.drop('plant_growth', axis=1)\n",
    "y = data_as_frame['plant_growth']"
   ]
  },
  {
   "cell_type": "code",
   "execution_count": 5,
   "metadata": {},
   "outputs": [
    {
     "name": "stdout",
     "output_type": "stream",
     "text": [
      "Index(['date', 'plant_stand', 'precip', 'temp', 'hail', 'crop_hist',\n",
      "       'area_dam', 'sever', 'seed_tmt', 'germ', 'leaves', 'leaf_halo',\n",
      "       'leaf_marg', 'leaf_size', 'leaf_shread', 'leaf_malf', 'leaf_mild',\n",
      "       'stem', 'lodging', 'stem_cankers', 'canker_lesion', 'fruiting_bodies',\n",
      "       'ext_decay', 'mycelium', 'int_discolor', 'sclerotia', 'fruit_pods',\n",
      "       'fruit_spots', 'seed', 'mold_growth', 'seed_discolor', 'seed_size',\n",
      "       'shriveling', 'roots', 'plant_growth'],\n",
      "      dtype='object')\n"
     ]
    }
   ],
   "source": [
    "columns = data_as_frame.columns\n",
    "print(columns)"
   ]
  },
  {
   "cell_type": "code",
   "execution_count": 6,
   "metadata": {
    "collapsed": true
   },
   "outputs": [],
   "source": [
    "df = pd.DataFrame(x)"
   ]
  },
  {
   "cell_type": "code",
   "execution_count": 7,
   "metadata": {},
   "outputs": [
    {
     "data": {
      "text/html": [
       "<div>\n",
       "<style scoped>\n",
       "    .dataframe tbody tr th:only-of-type {\n",
       "        vertical-align: middle;\n",
       "    }\n",
       "\n",
       "    .dataframe tbody tr th {\n",
       "        vertical-align: top;\n",
       "    }\n",
       "\n",
       "    .dataframe thead th {\n",
       "        text-align: right;\n",
       "    }\n",
       "</style>\n",
       "<table border=\"1\" class=\"dataframe\">\n",
       "  <thead>\n",
       "    <tr style=\"text-align: right;\">\n",
       "      <th></th>\n",
       "      <th>date</th>\n",
       "      <th>plant_stand</th>\n",
       "      <th>precip</th>\n",
       "      <th>temp</th>\n",
       "      <th>hail</th>\n",
       "      <th>crop_hist</th>\n",
       "      <th>area_dam</th>\n",
       "      <th>sever</th>\n",
       "      <th>seed_tmt</th>\n",
       "      <th>germ</th>\n",
       "      <th>...</th>\n",
       "      <th>int_discolor</th>\n",
       "      <th>sclerotia</th>\n",
       "      <th>fruit_pods</th>\n",
       "      <th>fruit_spots</th>\n",
       "      <th>seed</th>\n",
       "      <th>mold_growth</th>\n",
       "      <th>seed_discolor</th>\n",
       "      <th>seed_size</th>\n",
       "      <th>shriveling</th>\n",
       "      <th>roots</th>\n",
       "    </tr>\n",
       "  </thead>\n",
       "  <tbody>\n",
       "    <tr>\n",
       "      <th>0</th>\n",
       "      <td>6</td>\n",
       "      <td>0.0</td>\n",
       "      <td>2.0</td>\n",
       "      <td>1.0</td>\n",
       "      <td>0.0</td>\n",
       "      <td>1</td>\n",
       "      <td>1</td>\n",
       "      <td>1.0</td>\n",
       "      <td>0.0</td>\n",
       "      <td>0.0</td>\n",
       "      <td>...</td>\n",
       "      <td>0.0</td>\n",
       "      <td>0.0</td>\n",
       "      <td>0.0</td>\n",
       "      <td>4.0</td>\n",
       "      <td>0.0</td>\n",
       "      <td>0.0</td>\n",
       "      <td>0.0</td>\n",
       "      <td>0.0</td>\n",
       "      <td>0.0</td>\n",
       "      <td>0.0</td>\n",
       "    </tr>\n",
       "    <tr>\n",
       "      <th>1</th>\n",
       "      <td>4</td>\n",
       "      <td>0.0</td>\n",
       "      <td>2.0</td>\n",
       "      <td>1.0</td>\n",
       "      <td>0.0</td>\n",
       "      <td>2</td>\n",
       "      <td>0</td>\n",
       "      <td>2.0</td>\n",
       "      <td>1.0</td>\n",
       "      <td>1.0</td>\n",
       "      <td>...</td>\n",
       "      <td>0.0</td>\n",
       "      <td>0.0</td>\n",
       "      <td>0.0</td>\n",
       "      <td>4.0</td>\n",
       "      <td>0.0</td>\n",
       "      <td>0.0</td>\n",
       "      <td>0.0</td>\n",
       "      <td>0.0</td>\n",
       "      <td>0.0</td>\n",
       "      <td>0.0</td>\n",
       "    </tr>\n",
       "    <tr>\n",
       "      <th>2</th>\n",
       "      <td>3</td>\n",
       "      <td>0.0</td>\n",
       "      <td>2.0</td>\n",
       "      <td>1.0</td>\n",
       "      <td>0.0</td>\n",
       "      <td>1</td>\n",
       "      <td>0</td>\n",
       "      <td>2.0</td>\n",
       "      <td>1.0</td>\n",
       "      <td>2.0</td>\n",
       "      <td>...</td>\n",
       "      <td>0.0</td>\n",
       "      <td>0.0</td>\n",
       "      <td>0.0</td>\n",
       "      <td>4.0</td>\n",
       "      <td>0.0</td>\n",
       "      <td>0.0</td>\n",
       "      <td>0.0</td>\n",
       "      <td>0.0</td>\n",
       "      <td>0.0</td>\n",
       "      <td>0.0</td>\n",
       "    </tr>\n",
       "    <tr>\n",
       "      <th>3</th>\n",
       "      <td>3</td>\n",
       "      <td>0.0</td>\n",
       "      <td>2.0</td>\n",
       "      <td>1.0</td>\n",
       "      <td>0.0</td>\n",
       "      <td>1</td>\n",
       "      <td>0</td>\n",
       "      <td>2.0</td>\n",
       "      <td>0.0</td>\n",
       "      <td>1.0</td>\n",
       "      <td>...</td>\n",
       "      <td>0.0</td>\n",
       "      <td>0.0</td>\n",
       "      <td>0.0</td>\n",
       "      <td>4.0</td>\n",
       "      <td>0.0</td>\n",
       "      <td>0.0</td>\n",
       "      <td>0.0</td>\n",
       "      <td>0.0</td>\n",
       "      <td>0.0</td>\n",
       "      <td>0.0</td>\n",
       "    </tr>\n",
       "    <tr>\n",
       "      <th>4</th>\n",
       "      <td>6</td>\n",
       "      <td>0.0</td>\n",
       "      <td>2.0</td>\n",
       "      <td>1.0</td>\n",
       "      <td>0.0</td>\n",
       "      <td>2</td>\n",
       "      <td>0</td>\n",
       "      <td>1.0</td>\n",
       "      <td>0.0</td>\n",
       "      <td>2.0</td>\n",
       "      <td>...</td>\n",
       "      <td>0.0</td>\n",
       "      <td>0.0</td>\n",
       "      <td>0.0</td>\n",
       "      <td>4.0</td>\n",
       "      <td>0.0</td>\n",
       "      <td>0.0</td>\n",
       "      <td>0.0</td>\n",
       "      <td>0.0</td>\n",
       "      <td>0.0</td>\n",
       "      <td>0.0</td>\n",
       "    </tr>\n",
       "  </tbody>\n",
       "</table>\n",
       "<p>5 rows × 34 columns</p>\n",
       "</div>"
      ],
      "text/plain": [
       "   date  plant_stand  precip  temp  hail  crop_hist  area_dam  sever  \\\n",
       "0     6          0.0     2.0   1.0   0.0          1         1    1.0   \n",
       "1     4          0.0     2.0   1.0   0.0          2         0    2.0   \n",
       "2     3          0.0     2.0   1.0   0.0          1         0    2.0   \n",
       "3     3          0.0     2.0   1.0   0.0          1         0    2.0   \n",
       "4     6          0.0     2.0   1.0   0.0          2         0    1.0   \n",
       "\n",
       "   seed_tmt  germ  ...    int_discolor  sclerotia  fruit_pods  fruit_spots  \\\n",
       "0       0.0   0.0  ...             0.0        0.0         0.0          4.0   \n",
       "1       1.0   1.0  ...             0.0        0.0         0.0          4.0   \n",
       "2       1.0   2.0  ...             0.0        0.0         0.0          4.0   \n",
       "3       0.0   1.0  ...             0.0        0.0         0.0          4.0   \n",
       "4       0.0   2.0  ...             0.0        0.0         0.0          4.0   \n",
       "\n",
       "   seed  mold_growth  seed_discolor  seed_size  shriveling  roots  \n",
       "0   0.0          0.0            0.0        0.0         0.0    0.0  \n",
       "1   0.0          0.0            0.0        0.0         0.0    0.0  \n",
       "2   0.0          0.0            0.0        0.0         0.0    0.0  \n",
       "3   0.0          0.0            0.0        0.0         0.0    0.0  \n",
       "4   0.0          0.0            0.0        0.0         0.0    0.0  \n",
       "\n",
       "[5 rows x 34 columns]"
      ]
     },
     "execution_count": 7,
     "metadata": {},
     "output_type": "execute_result"
    }
   ],
   "source": [
    "df.head()"
   ]
  },
  {
   "cell_type": "code",
   "execution_count": 8,
   "metadata": {},
   "outputs": [
    {
     "name": "stdout",
     "output_type": "stream",
     "text": [
      "[[1.35987344 0.78714455 0.58047909 ... 0.23746785 0.20657109 0.13654007]\n",
      " [0.15348216 0.78714455 0.58047909 ... 0.23746785 0.20657109 0.13654007]\n",
      " [0.44971347 0.78714455 0.58047909 ... 0.23746785 0.20657109 0.13654007]\n",
      " ...\n",
      " [1.35987344 1.27041469 0.58047909 ... 0.23746785 0.20657109 0.13654007]\n",
      " [0.15348216 0.78714455 0.58047909 ... 0.23746785 0.20657109 0.13654007]\n",
      " [0.7566778  0.78714455 0.58047909 ... 0.23746785 0.20657109 0.13654007]]\n"
     ]
    }
   ],
   "source": [
    "z = np.abs(stats.zscore(df))\n",
    "print(z)"
   ]
  },
  {
   "cell_type": "markdown",
   "metadata": {},
   "source": [
    "### The first array contains the list of row numbers and second array respective column numbers"
   ]
  },
  {
   "cell_type": "code",
   "execution_count": 9,
   "metadata": {},
   "outputs": [
    {
     "name": "stdout",
     "output_type": "stream",
     "text": [
      "4.211096452627668\n"
     ]
    }
   ],
   "source": [
    "print(z[140][31])"
   ]
  },
  {
   "cell_type": "code",
   "execution_count": 10,
   "metadata": {
    "collapsed": true
   },
   "outputs": [],
   "source": [
    "threshold = 3\n",
    "outliers_points = np.where(z > 3)"
   ]
  },
  {
   "cell_type": "code",
   "execution_count": 11,
   "metadata": {},
   "outputs": [
    {
     "data": {
      "text/plain": [
       "tuple"
      ]
     },
     "execution_count": 11,
     "metadata": {},
     "output_type": "execute_result"
    }
   ],
   "source": [
    "type(outliers_points)"
   ]
  },
  {
   "cell_type": "code",
   "execution_count": 12,
   "metadata": {
    "collapsed": true
   },
   "outputs": [],
   "source": [
    "rows = outliers_points[0]\n",
    "cols = outliers_points[1]"
   ]
  },
  {
   "cell_type": "code",
   "execution_count": 13,
   "metadata": {},
   "outputs": [
    {
     "data": {
      "text/plain": [
       "array([  0,   6,  10,  10,  11,  11,  11,  12,  12,  13,  13,  14,  14,\n",
       "        15,  15,  16,  16,  16,  17,  17,  18,  18,  19,  19,  20,  20,\n",
       "        21,  22,  22,  22,  23,  24,  25,  26,  27,  28,  29,  30,  31,\n",
       "        32,  33,  34,  35,  36,  36,  37,  38,  39,  40,  41,  42,  42,\n",
       "        43,  44,  45,  52,  53,  54,  55,  56,  57,  76,  76,  76,  77,\n",
       "        77,  77,  78,  78,  79,  79,  79,  80,  80,  81,  81,  82,  82,\n",
       "        83,  83,  84,  84,  85,  85, 130, 136, 137, 137, 139, 139, 139,\n",
       "       140, 140, 140, 140, 141, 142, 142, 142, 143, 143, 144, 144, 144,\n",
       "       145, 146, 146, 147, 148, 149, 149, 150, 151, 152, 152, 153, 154,\n",
       "       155, 157, 157, 157, 158, 158, 158, 160, 160, 162, 162, 162, 163,\n",
       "       164, 164, 164, 165, 165, 166, 167, 167, 168, 168, 168, 169, 169,\n",
       "       169, 172, 172, 172, 173, 174, 174, 174, 175, 175, 175, 177, 180,\n",
       "       182, 183, 190, 209, 247, 247, 247, 272, 273, 274, 275, 276, 276,\n",
       "       277, 277, 278, 278, 279, 279, 280, 280, 280, 281, 281, 282, 282,\n",
       "       283, 283, 284, 284, 285, 285, 286, 286, 287, 288, 289, 290, 291,\n",
       "       292, 292, 293, 293, 293, 294, 294, 295, 295, 296, 297, 298, 299,\n",
       "       300, 301, 302, 303, 304, 305, 311, 312, 314, 316, 334, 334, 335,\n",
       "       335, 335, 336, 336, 337, 337, 338, 338, 338, 339, 339, 339, 340,\n",
       "       340, 341, 341, 342, 342, 343, 343, 402, 406, 406, 407, 407, 408,\n",
       "       408, 409, 410, 410, 411, 411, 412, 412, 412, 413, 414, 414, 414,\n",
       "       415, 415, 416, 416, 417, 418, 419, 419, 420, 421, 422, 423, 424,\n",
       "       425, 426, 426, 426, 427, 427, 427, 428, 428, 428, 429, 429, 430,\n",
       "       430, 430, 431, 431, 431, 432, 432, 432, 433, 433, 433, 434, 434,\n",
       "       434, 435, 435, 435, 437, 438, 442, 442, 442, 443, 443, 443, 445,\n",
       "       445, 445, 446, 446, 446, 450, 451, 456, 457, 458, 459, 468, 470,\n",
       "       473, 474, 475, 476, 477, 479, 522, 523, 528], dtype=int64)"
      ]
     },
     "execution_count": 13,
     "metadata": {},
     "output_type": "execute_result"
    }
   ],
   "source": [
    "rows"
   ]
  },
  {
   "cell_type": "code",
   "execution_count": 14,
   "metadata": {},
   "outputs": [
    {
     "data": {
      "text/plain": [
       "array([18, 18, 24, 25, 18, 24, 25, 24, 25, 24, 25, 24, 25, 24, 25, 18, 24,\n",
       "       25, 24, 25, 24, 25, 24, 25, 23, 26, 26, 18, 23, 26, 26, 26, 26, 26,\n",
       "       26, 26, 26, 26, 26, 26, 26, 26, 26, 18, 26, 26, 26, 26, 26, 26, 18,\n",
       "       26, 26, 26, 26, 18, 18, 18, 18, 18, 18, 15, 16, 29, 15, 16, 29, 16,\n",
       "       29, 15, 16, 29, 16, 29, 16, 29, 16, 29, 16, 29, 16, 29, 16, 29, 15,\n",
       "       33, 29, 30, 15, 31, 33, 29, 30, 31, 33, 33, 29, 30, 31, 31, 33, 29,\n",
       "       30, 31, 33, 18, 30, 30, 30, 18, 30, 30, 30, 18, 30, 30, 30, 30, 29,\n",
       "       30, 32, 29, 31, 32, 29, 30, 29, 31, 32, 30, 29, 31, 32, 29, 30, 18,\n",
       "       29, 31, 30, 31, 32, 29, 31, 32, 29, 31, 32, 18, 29, 31, 32, 29, 31,\n",
       "       32, 15, 15, 15, 15, 30, 30, 30, 31, 32, 18, 18, 18, 18, 24, 25, 24,\n",
       "       25, 24, 25, 24, 25, 18, 24, 25, 24, 25, 24, 25, 24, 25, 24, 25, 24,\n",
       "       25, 26, 33, 26, 26, 26, 26, 26, 23, 26, 18, 23, 26, 23, 26, 23, 26,\n",
       "       26, 26, 26, 26, 18, 18, 18, 18, 18, 18, 18, 18, 18, 18, 16, 29, 15,\n",
       "       16, 29, 16, 29, 16, 29, 15, 16, 29, 15, 16, 29, 16, 29, 16, 29, 16,\n",
       "       29, 16, 29, 15, 29, 30, 31, 33, 29, 30, 33, 29, 30, 29, 30, 29, 30,\n",
       "       31, 33, 15, 29, 30, 15, 33, 18, 30, 30, 30, 18, 30, 30, 30, 30, 30,\n",
       "       30, 30, 30, 31, 32, 30, 31, 32, 29, 31, 32, 30, 32, 18, 29, 31, 29,\n",
       "       31, 32, 29, 31, 32, 29, 31, 32, 29, 31, 32, 29, 31, 32, 18, 18, 29,\n",
       "       31, 32, 29, 31, 32, 29, 31, 32, 29, 31, 32, 15, 15, 15, 15, 15, 15,\n",
       "       30, 30, 30, 30, 30, 30, 30, 30, 18, 18, 18], dtype=int64)"
      ]
     },
     "execution_count": 14,
     "metadata": {},
     "output_type": "execute_result"
    }
   ],
   "source": [
    "cols"
   ]
  },
  {
   "cell_type": "code",
   "execution_count": 15,
   "metadata": {},
   "outputs": [
    {
     "data": {
      "text/plain": [
       "{15, 16, 18, 23, 24, 25, 26, 29, 30, 31, 32, 33}"
      ]
     },
     "execution_count": 15,
     "metadata": {},
     "output_type": "execute_result"
    }
   ],
   "source": [
    "set(cols)"
   ]
  },
  {
   "cell_type": "code",
   "execution_count": 16,
   "metadata": {
    "collapsed": true
   },
   "outputs": [],
   "source": [
    "df.iloc[rows, cols] = np.nan"
   ]
  },
  {
   "cell_type": "code",
   "execution_count": 17,
   "metadata": {
    "collapsed": true
   },
   "outputs": [],
   "source": [
    "df = df.groupby(df.columns, axis = 1).transform(lambda x: x.fillna(x.mean()))"
   ]
  },
  {
   "cell_type": "code",
   "execution_count": 18,
   "metadata": {},
   "outputs": [
    {
     "data": {
      "text/plain": [
       "date               0\n",
       "plant_stand        0\n",
       "precip             0\n",
       "temp               0\n",
       "hail               0\n",
       "crop_hist          0\n",
       "area_dam           0\n",
       "sever              0\n",
       "seed_tmt           0\n",
       "germ               0\n",
       "leaves             0\n",
       "leaf_halo          0\n",
       "leaf_marg          0\n",
       "leaf_size          0\n",
       "leaf_shread        0\n",
       "leaf_malf          0\n",
       "leaf_mild          0\n",
       "stem               0\n",
       "lodging            0\n",
       "stem_cankers       0\n",
       "canker_lesion      0\n",
       "fruiting_bodies    0\n",
       "ext_decay          0\n",
       "mycelium           0\n",
       "int_discolor       0\n",
       "sclerotia          0\n",
       "fruit_pods         0\n",
       "fruit_spots        0\n",
       "seed               0\n",
       "mold_growth        0\n",
       "seed_discolor      0\n",
       "seed_size          0\n",
       "shriveling         0\n",
       "roots              0\n",
       "dtype: int64"
      ]
     },
     "execution_count": 18,
     "metadata": {},
     "output_type": "execute_result"
    }
   ],
   "source": [
    "df.isna().sum()"
   ]
  },
  {
   "cell_type": "code",
   "execution_count": 19,
   "metadata": {
    "collapsed": true
   },
   "outputs": [],
   "source": [
    "x = df"
   ]
  },
  {
   "cell_type": "code",
   "execution_count": 20,
   "metadata": {},
   "outputs": [
    {
     "data": {
      "text/html": [
       "<div>\n",
       "<style scoped>\n",
       "    .dataframe tbody tr th:only-of-type {\n",
       "        vertical-align: middle;\n",
       "    }\n",
       "\n",
       "    .dataframe tbody tr th {\n",
       "        vertical-align: top;\n",
       "    }\n",
       "\n",
       "    .dataframe thead th {\n",
       "        text-align: right;\n",
       "    }\n",
       "</style>\n",
       "<table border=\"1\" class=\"dataframe\">\n",
       "  <thead>\n",
       "    <tr style=\"text-align: right;\">\n",
       "      <th></th>\n",
       "      <th>date</th>\n",
       "      <th>plant_stand</th>\n",
       "      <th>precip</th>\n",
       "      <th>temp</th>\n",
       "      <th>hail</th>\n",
       "      <th>crop_hist</th>\n",
       "      <th>area_dam</th>\n",
       "      <th>sever</th>\n",
       "      <th>seed_tmt</th>\n",
       "      <th>germ</th>\n",
       "      <th>...</th>\n",
       "      <th>int_discolor</th>\n",
       "      <th>sclerotia</th>\n",
       "      <th>fruit_pods</th>\n",
       "      <th>fruit_spots</th>\n",
       "      <th>seed</th>\n",
       "      <th>mold_growth</th>\n",
       "      <th>seed_discolor</th>\n",
       "      <th>seed_size</th>\n",
       "      <th>shriveling</th>\n",
       "      <th>roots</th>\n",
       "    </tr>\n",
       "  </thead>\n",
       "  <tbody>\n",
       "    <tr>\n",
       "      <th>0</th>\n",
       "      <td>6</td>\n",
       "      <td>0.0</td>\n",
       "      <td>2.0</td>\n",
       "      <td>1.0</td>\n",
       "      <td>0.0</td>\n",
       "      <td>1</td>\n",
       "      <td>1</td>\n",
       "      <td>1.0</td>\n",
       "      <td>0.0</td>\n",
       "      <td>0.0</td>\n",
       "      <td>...</td>\n",
       "      <td>0.076923</td>\n",
       "      <td>0.0</td>\n",
       "      <td>0.208791</td>\n",
       "      <td>4.0</td>\n",
       "      <td>0.0</td>\n",
       "      <td>0.0</td>\n",
       "      <td>0.0</td>\n",
       "      <td>0.0</td>\n",
       "      <td>0.0</td>\n",
       "      <td>0.0</td>\n",
       "    </tr>\n",
       "    <tr>\n",
       "      <th>1</th>\n",
       "      <td>4</td>\n",
       "      <td>0.0</td>\n",
       "      <td>2.0</td>\n",
       "      <td>1.0</td>\n",
       "      <td>0.0</td>\n",
       "      <td>2</td>\n",
       "      <td>0</td>\n",
       "      <td>2.0</td>\n",
       "      <td>1.0</td>\n",
       "      <td>1.0</td>\n",
       "      <td>...</td>\n",
       "      <td>0.000000</td>\n",
       "      <td>0.0</td>\n",
       "      <td>0.000000</td>\n",
       "      <td>4.0</td>\n",
       "      <td>0.0</td>\n",
       "      <td>0.0</td>\n",
       "      <td>0.0</td>\n",
       "      <td>0.0</td>\n",
       "      <td>0.0</td>\n",
       "      <td>0.0</td>\n",
       "    </tr>\n",
       "    <tr>\n",
       "      <th>2</th>\n",
       "      <td>3</td>\n",
       "      <td>0.0</td>\n",
       "      <td>2.0</td>\n",
       "      <td>1.0</td>\n",
       "      <td>0.0</td>\n",
       "      <td>1</td>\n",
       "      <td>0</td>\n",
       "      <td>2.0</td>\n",
       "      <td>1.0</td>\n",
       "      <td>2.0</td>\n",
       "      <td>...</td>\n",
       "      <td>0.000000</td>\n",
       "      <td>0.0</td>\n",
       "      <td>0.000000</td>\n",
       "      <td>4.0</td>\n",
       "      <td>0.0</td>\n",
       "      <td>0.0</td>\n",
       "      <td>0.0</td>\n",
       "      <td>0.0</td>\n",
       "      <td>0.0</td>\n",
       "      <td>0.0</td>\n",
       "    </tr>\n",
       "    <tr>\n",
       "      <th>3</th>\n",
       "      <td>3</td>\n",
       "      <td>0.0</td>\n",
       "      <td>2.0</td>\n",
       "      <td>1.0</td>\n",
       "      <td>0.0</td>\n",
       "      <td>1</td>\n",
       "      <td>0</td>\n",
       "      <td>2.0</td>\n",
       "      <td>0.0</td>\n",
       "      <td>1.0</td>\n",
       "      <td>...</td>\n",
       "      <td>0.000000</td>\n",
       "      <td>0.0</td>\n",
       "      <td>0.000000</td>\n",
       "      <td>4.0</td>\n",
       "      <td>0.0</td>\n",
       "      <td>0.0</td>\n",
       "      <td>0.0</td>\n",
       "      <td>0.0</td>\n",
       "      <td>0.0</td>\n",
       "      <td>0.0</td>\n",
       "    </tr>\n",
       "    <tr>\n",
       "      <th>4</th>\n",
       "      <td>6</td>\n",
       "      <td>0.0</td>\n",
       "      <td>2.0</td>\n",
       "      <td>1.0</td>\n",
       "      <td>0.0</td>\n",
       "      <td>2</td>\n",
       "      <td>0</td>\n",
       "      <td>1.0</td>\n",
       "      <td>0.0</td>\n",
       "      <td>2.0</td>\n",
       "      <td>...</td>\n",
       "      <td>0.000000</td>\n",
       "      <td>0.0</td>\n",
       "      <td>0.000000</td>\n",
       "      <td>4.0</td>\n",
       "      <td>0.0</td>\n",
       "      <td>0.0</td>\n",
       "      <td>0.0</td>\n",
       "      <td>0.0</td>\n",
       "      <td>0.0</td>\n",
       "      <td>0.0</td>\n",
       "    </tr>\n",
       "  </tbody>\n",
       "</table>\n",
       "<p>5 rows × 34 columns</p>\n",
       "</div>"
      ],
      "text/plain": [
       "   date  plant_stand  precip  temp  hail  crop_hist  area_dam  sever  \\\n",
       "0     6          0.0     2.0   1.0   0.0          1         1    1.0   \n",
       "1     4          0.0     2.0   1.0   0.0          2         0    2.0   \n",
       "2     3          0.0     2.0   1.0   0.0          1         0    2.0   \n",
       "3     3          0.0     2.0   1.0   0.0          1         0    2.0   \n",
       "4     6          0.0     2.0   1.0   0.0          2         0    1.0   \n",
       "\n",
       "   seed_tmt  germ  ...    int_discolor  sclerotia  fruit_pods  fruit_spots  \\\n",
       "0       0.0   0.0  ...        0.076923        0.0    0.208791          4.0   \n",
       "1       1.0   1.0  ...        0.000000        0.0    0.000000          4.0   \n",
       "2       1.0   2.0  ...        0.000000        0.0    0.000000          4.0   \n",
       "3       0.0   1.0  ...        0.000000        0.0    0.000000          4.0   \n",
       "4       0.0   2.0  ...        0.000000        0.0    0.000000          4.0   \n",
       "\n",
       "   seed  mold_growth  seed_discolor  seed_size  shriveling  roots  \n",
       "0   0.0          0.0            0.0        0.0         0.0    0.0  \n",
       "1   0.0          0.0            0.0        0.0         0.0    0.0  \n",
       "2   0.0          0.0            0.0        0.0         0.0    0.0  \n",
       "3   0.0          0.0            0.0        0.0         0.0    0.0  \n",
       "4   0.0          0.0            0.0        0.0         0.0    0.0  \n",
       "\n",
       "[5 rows x 34 columns]"
      ]
     },
     "execution_count": 20,
     "metadata": {},
     "output_type": "execute_result"
    }
   ],
   "source": [
    "x.head()"
   ]
  },
  {
   "cell_type": "code",
   "execution_count": 21,
   "metadata": {},
   "outputs": [
    {
     "data": {
      "text/plain": [
       "0    1\n",
       "1    1\n",
       "2    1\n",
       "3    1\n",
       "4    1\n",
       "Name: plant_growth, dtype: int64"
      ]
     },
     "execution_count": 21,
     "metadata": {},
     "output_type": "execute_result"
    }
   ],
   "source": [
    "y.head()"
   ]
  },
  {
   "cell_type": "code",
   "execution_count": 22,
   "metadata": {},
   "outputs": [],
   "source": [
    "x_train, x_test, y_train, y_test = train_test_split(x, y, test_size= 0.2)"
   ]
  },
  {
   "cell_type": "code",
   "execution_count": 23,
   "metadata": {},
   "outputs": [
    {
     "name": "stdout",
     "output_type": "stream",
     "text": [
      "(449, 34) (449,) (113, 34) (113,)\n"
     ]
    }
   ],
   "source": [
    "print(x_train.shape, y_train.shape, x_test.shape, y_test.shape)"
   ]
  },
  {
   "cell_type": "code",
   "execution_count": 24,
   "metadata": {
    "collapsed": true
   },
   "outputs": [],
   "source": [
    "def plot_confusion_matrix(cm, classes, title='Confusion Matrix'):\n",
    "\n",
    "    plt.imshow(cm, interpolation='nearest', cmap='YlGnBu')\n",
    "    plt.title(title)\n",
    "    plt.colorbar()\n",
    "    tick_marks = np.arange(len(classes))\n",
    "    plt.xticks(tick_marks, classes, rotation= 45)\n",
    "    plt.yticks(tick_marks, classes)\n",
    "    \n",
    "    fmt = 'd'\n",
    "    thresh = cm.max() / 2.\n",
    "    for i, j in itertools.product(range(cm.shape[0]), range(cm.shape[1])):\n",
    "        plt.text(j, i, format(cm[i,j], fmt),\n",
    "                horizontalalignment=\"center\",\n",
    "                color=\"white\" if cm[i,j] > thresh else \"black\")\n",
    "    plt.ylabel('Actual Label')\n",
    "    plt.xlabel('Predicted label')\n",
    "    plt.tight_layout()\n",
    "    plt.show()\n"
   ]
  },
  {
   "cell_type": "code",
   "execution_count": 25,
   "metadata": {
    "collapsed": true
   },
   "outputs": [],
   "source": [
    "cm_plot_labels = data_as_frame.plant_growth.value_counts().keys().tolist()"
   ]
  },
  {
   "cell_type": "markdown",
   "metadata": {},
   "source": [
    "# Logistic Regression"
   ]
  },
  {
   "cell_type": "code",
   "execution_count": 26,
   "metadata": {
    "collapsed": true
   },
   "outputs": [],
   "source": [
    "logistic_model = LogisticRegression()"
   ]
  },
  {
   "cell_type": "code",
   "execution_count": 27,
   "metadata": {},
   "outputs": [
    {
     "data": {
      "text/plain": [
       "LogisticRegression(C=1.0, class_weight=None, dual=False, fit_intercept=True,\n",
       "          intercept_scaling=1, max_iter=100, multi_class='ovr', n_jobs=1,\n",
       "          penalty='l2', random_state=None, solver='liblinear', tol=0.0001,\n",
       "          verbose=0, warm_start=False)"
      ]
     },
     "execution_count": 27,
     "metadata": {},
     "output_type": "execute_result"
    }
   ],
   "source": [
    "logistic_model.fit(x_train, y_train)"
   ]
  },
  {
   "cell_type": "code",
   "execution_count": 28,
   "metadata": {
    "collapsed": true
   },
   "outputs": [],
   "source": [
    "y_log_pred = logistic_model.predict(x_test)"
   ]
  },
  {
   "cell_type": "code",
   "execution_count": 29,
   "metadata": {},
   "outputs": [
    {
     "name": "stdout",
     "output_type": "stream",
     "text": [
      "             precision    recall  f1-score   support\n",
      "\n",
      "          0       0.96      0.98      0.97        87\n",
      "          1       0.92      0.85      0.88        26\n",
      "\n",
      "avg / total       0.95      0.95      0.95       113\n",
      "\n"
     ]
    }
   ],
   "source": [
    "print(classification_report(y_true=y_test, y_pred=y_log_pred))"
   ]
  },
  {
   "cell_type": "code",
   "execution_count": 30,
   "metadata": {},
   "outputs": [
    {
     "data": {
      "image/png": "[encoded data removed]",
      "text/plain": [
       "<matplotlib.figure.Figure at 0x1b39568fa90>"
      ]
     },
     "metadata": {},
     "output_type": "display_data"
    }
   ],
   "source": [
    "log_cm = confusion_matrix(y_true=y_test, y_pred=y_log_pred)\n",
    "plot_confusion_matrix(log_cm,cm_plot_labels)"
   ]
  },
  {
   "cell_type": "code",
   "execution_count": 31,
   "metadata": {},
   "outputs": [
    {
     "name": "stdout",
     "output_type": "stream",
     "text": [
      "Validation Accuracy :  94.69026548672566\n"
     ]
    }
   ],
   "source": [
    "log_acc = accuracy_score(y_pred=y_log_pred,y_true=y_test)\n",
    "print('Validation Accuracy : ',log_acc*100)"
   ]
  },
  {
   "cell_type": "markdown",
   "metadata": {},
   "source": [
    "# Random Forest"
   ]
  },
  {
   "cell_type": "code",
   "execution_count": 32,
   "metadata": {
    "collapsed": true
   },
   "outputs": [],
   "source": [
    "forest = RandomForestClassifier(n_estimators=200)"
   ]
  },
  {
   "cell_type": "code",
   "execution_count": 33,
   "metadata": {},
   "outputs": [
    {
     "data": {
      "text/plain": [
       "RandomForestClassifier(bootstrap=True, class_weight=None, criterion='gini',\n",
       "            max_depth=None, max_features='auto', max_leaf_nodes=None,\n",
       "            min_impurity_decrease=0.0, min_impurity_split=None,\n",
       "            min_samples_leaf=1, min_samples_split=2,\n",
       "            min_weight_fraction_leaf=0.0, n_estimators=200, n_jobs=1,\n",
       "            oob_score=False, random_state=None, verbose=0,\n",
       "            warm_start=False)"
      ]
     },
     "execution_count": 33,
     "metadata": {},
     "output_type": "execute_result"
    }
   ],
   "source": [
    "forest.fit(x_train,y_train)"
   ]
  },
  {
   "cell_type": "code",
   "execution_count": 34,
   "metadata": {
    "collapsed": true
   },
   "outputs": [],
   "source": [
    "y_pred = forest.predict(x_test)"
   ]
  },
  {
   "cell_type": "code",
   "execution_count": 35,
   "metadata": {},
   "outputs": [
    {
     "name": "stdout",
     "output_type": "stream",
     "text": [
      "             precision    recall  f1-score   support\n",
      "\n",
      "          0       0.95      0.97      0.96        87\n",
      "          1       0.88      0.85      0.86        26\n",
      "\n",
      "avg / total       0.94      0.94      0.94       113\n",
      "\n"
     ]
    }
   ],
   "source": [
    "print(classification_report(y_test,y_pred))"
   ]
  },
  {
   "cell_type": "code",
   "execution_count": 36,
   "metadata": {},
   "outputs": [
    {
     "data": {
      "image/png": "[encoded data removed]",
      "text/plain": [
       "<matplotlib.figure.Figure at 0x1b395b3ca58>"
      ]
     },
     "metadata": {},
     "output_type": "display_data"
    }
   ],
   "source": [
    "rf_cm = confusion_matrix(y_true=y_test, y_pred=y_pred)\n",
    "plot_confusion_matrix(rf_cm,cm_plot_labels)"
   ]
  },
  {
   "cell_type": "code",
   "execution_count": 37,
   "metadata": {},
   "outputs": [
    {
     "name": "stdout",
     "output_type": "stream",
     "text": [
      "Validation Accuracy :  93.80530973451327\n"
     ]
    }
   ],
   "source": [
    "rf_acc = accuracy_score(y_pred=y_pred,y_true=y_test)\n",
    "print('Validation Accuracy : ',rf_acc*100)"
   ]
  },
  {
   "cell_type": "code",
   "execution_count": null,
   "metadata": {
    "collapsed": true
   },
   "outputs": [],
   "source": []
  }
 ],
 "metadata": {
  "kernelspec": {
   "display_name": "Python 3",
   "language": "python",
   "name": "python3"
  },
  "language_info": {
   "codemirror_mode": {
    "name": "ipython",
    "version": 3
   },
   "file_extension": ".py",
   "mimetype": "text/x-python",
   "name": "python",
   "nbconvert_exporter": "python",
   "pygments_lexer": "ipython3",
   "version": "3.6.8"
  }
 },
 "nbformat": 4,
 "nbformat_minor": 2
}
